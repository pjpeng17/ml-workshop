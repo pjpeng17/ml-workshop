{
 "cells": [
  {
   "cell_type": "markdown",
   "metadata": {},
   "source": [
    "# Introduction to data science and machine learning with Python\n",
    "We're going to run through a series of steps and challenges. If you get stuck at any point please feel free to ask one of our volunteers for help!"
   ]
  },
  {
   "cell_type": "markdown",
   "metadata": {},
   "source": [
    "## 1. Install Anaconda\n",
    "\n",
    "### On a JPMC machine\n",
    "\n",
    "1. Go to https://fastxchange.jpmchase.net/software/#home\n",
    "2. Search for \"Anaconda\"\n",
    "3. Install \"Anaconda for Python 3.x\"\n",
    "\n",
    "### On your own machine\n",
    "\n",
    "Go to https://www.continuum.io/downloads/\n"
   ]
  },
  {
   "cell_type": "markdown",
   "metadata": {},
   "source": [
    "## 2. Get the workshop notebook\n",
    "\n",
    "Download https://github.com/joehalliwell/ml-workshop/raw/master/ml-intro.ipynb \n"
   ]
  },
  {
   "cell_type": "markdown",
   "metadata": {},
   "source": [
    "## 3. Run Jupyter Notebook\n",
    "\n",
    "Jupyter is a tool for interacting with code and data in a variety of languages. Today (obviously) we're using it with Python 3, but you can find out more about what it can do at http://jupyter.org/\n",
    "\n",
    "### On a JPMC machine\n",
    "\n",
    "1. Start > All Programs > Anaconda 3 > Anaconda Prompt\n",
    "2. Type `jupyter notebook`\n",
    "\n",
    "### On your own machine\n",
    "\n",
    "Just from Start > All Programs > Anaconda > Jupyter (or similar)\n"
   ]
  },
  {
   "cell_type": "markdown",
   "metadata": {},
   "source": [
    "## 4. Jupyter basics\n",
    "\n",
    "When you started Jupyter a new browser tab should have opened. Load the \"ml-intro.ipynb\" file you just downloaded. \n",
    "\n",
    "### Challenges\n",
    "\n",
    "1. Go to the \"Help\" menu above and run through the \"User Interface Tour\"\n",
    "2. Click into the \"In\" box below and hit `control + enter` to execute it. What happens?\n",
    "3. Click the \"+\" button to create a new code block. Type in `1337 + 1337` and hit `control + enter` to evaluate.\n",
    "4. Click the scissors button to remove it\n",
    "5. Pop-up documentation by click on the word format and pressing `shift + tab`. You can use the controls in the top-right of the pop-up to see more info.\n"
   ]
  },
  {
   "cell_type": "code",
   "execution_count": null,
   "metadata": {
    "collapsed": true
   },
   "outputs": [],
   "source": [
    "from getpass import getuser\n",
    "print(\"{0} RULEZ!!!\".format(getuser()))"
   ]
  },
  {
   "cell_type": "markdown",
   "metadata": {},
   "source": [
    "## 5. Python basics\n",
    "\n",
    "Practice a bit of Python. Skip this if you're totally on top of the Python thing.\n",
    "\n",
    "### Challenges\n",
    "\n",
    "1. Print the result of *multiplying* `1337` by `1337`\n",
    "2. Create a list called `adjectives` containing *five* adjectives\n",
    "3. Print the length of `adjectives`\n",
    "3. Import the `choice` function from the `random` standard library; use it to print a random adjective\n",
    "4. Do the same with `nouns` a list of nouns\n",
    "5. Define a function `codename` to return a random combination of adjective and noun\n",
    "6. (**Tricky!**) Generate five *distinct* codenames"
   ]
  },
  {
   "cell_type": "markdown",
   "metadata": {},
   "source": [
    "## 6. Pandas\n",
    "\n",
    "Pandas is a widely-used library for working with tables of data called \"dataframes\". You can find out more at http://pandas.pydata.org/\n",
    "\n",
    "We're going to work with a dataset about passengers on the ill-fated Titanic. This is an introductory machine learning challenge on https://www.kaggle.com/c/titanic.\n",
    "\n",
    "You can read more about this dataset (including field descriptions) at https://www.kaggle.com/c/titanic/data.\n",
    "\n",
    "### Challenges\n",
    "\n",
    "1. Run the snippet below to read in the \"Titanic\" dataset from the interwebs. Do you understand what each line is doing?\n",
    "2. Run `titanic.head()` to look at the first few rows of the dataframe\n",
    "3. Experiment with the `sample()`, `info()` and `describe()` methods. Remember that you can use `shift + tab` to access documentation!\n",
    "4. Why are the counts in the `info()` output different for different fields?\n",
    "4. The average age in the dataset can be found via `titanic['Age'].mean()`, but what is the sum of eveyone's ages?\n",
    "4. You can filter the dataset to just women via `titanic[titanic['Sex'] == 'female']`. What's the average age of women in the dataset?\n",
    "5. (**Tricky!**) What's the average age of female survivors?\n",
    "5. What is `titanic.groupby(['Sex', 'Survived']).describe()` showing you?"
   ]
  },
  {
   "cell_type": "code",
   "execution_count": 24,
   "metadata": {
    "collapsed": true
   },
   "outputs": [],
   "source": [
    "import pandas as pd\n",
    "import os\n",
    "\n",
    "# Comment out the following line if you're running it on your own machine\n",
    "#os.environ['HTTPS_PROXY'] = 'proxy.jpmchase.net:8443'\n",
    "pd.set_option('max_rows', 50)\n",
    "\n",
    "url = \"https://raw.githubusercontent.com/joehalliwell/ml-workshop/master/train.csv\"\n",
    "titanic = pd.read_csv(url)\n"
   ]
  },
  {
   "cell_type": "code",
   "execution_count": 31,
   "metadata": {
    "collapsed": false
   },
   "outputs": [
    {
     "data": {
      "text/html": [
       "<div>\n",
       "<table border=\"1\" class=\"dataframe\">\n",
       "  <thead>\n",
       "    <tr style=\"text-align: right;\">\n",
       "      <th></th>\n",
       "      <th>PassengerId</th>\n",
       "      <th>Survived</th>\n",
       "      <th>Pclass</th>\n",
       "      <th>Name</th>\n",
       "      <th>Sex</th>\n",
       "      <th>Age</th>\n",
       "      <th>SibSp</th>\n",
       "      <th>Parch</th>\n",
       "      <th>Ticket</th>\n",
       "      <th>Fare</th>\n",
       "      <th>Cabin</th>\n",
       "      <th>Embarked</th>\n",
       "    </tr>\n",
       "  </thead>\n",
       "  <tbody>\n",
       "    <tr>\n",
       "      <th>0</th>\n",
       "      <td>1</td>\n",
       "      <td>0</td>\n",
       "      <td>3</td>\n",
       "      <td>Braund, Mr. Owen Harris</td>\n",
       "      <td>male</td>\n",
       "      <td>22.0</td>\n",
       "      <td>1</td>\n",
       "      <td>0</td>\n",
       "      <td>A/5 21171</td>\n",
       "      <td>7.2500</td>\n",
       "      <td>NaN</td>\n",
       "      <td>S</td>\n",
       "    </tr>\n",
       "    <tr>\n",
       "      <th>1</th>\n",
       "      <td>2</td>\n",
       "      <td>1</td>\n",
       "      <td>1</td>\n",
       "      <td>Cumings, Mrs. John Bradley (Florence Briggs Th...</td>\n",
       "      <td>female</td>\n",
       "      <td>38.0</td>\n",
       "      <td>1</td>\n",
       "      <td>0</td>\n",
       "      <td>PC 17599</td>\n",
       "      <td>71.2833</td>\n",
       "      <td>C85</td>\n",
       "      <td>C</td>\n",
       "    </tr>\n",
       "    <tr>\n",
       "      <th>2</th>\n",
       "      <td>3</td>\n",
       "      <td>1</td>\n",
       "      <td>3</td>\n",
       "      <td>Heikkinen, Miss. Laina</td>\n",
       "      <td>female</td>\n",
       "      <td>26.0</td>\n",
       "      <td>0</td>\n",
       "      <td>0</td>\n",
       "      <td>STON/O2. 3101282</td>\n",
       "      <td>7.9250</td>\n",
       "      <td>NaN</td>\n",
       "      <td>S</td>\n",
       "    </tr>\n",
       "    <tr>\n",
       "      <th>3</th>\n",
       "      <td>4</td>\n",
       "      <td>1</td>\n",
       "      <td>1</td>\n",
       "      <td>Futrelle, Mrs. Jacques Heath (Lily May Peel)</td>\n",
       "      <td>female</td>\n",
       "      <td>35.0</td>\n",
       "      <td>1</td>\n",
       "      <td>0</td>\n",
       "      <td>113803</td>\n",
       "      <td>53.1000</td>\n",
       "      <td>C123</td>\n",
       "      <td>S</td>\n",
       "    </tr>\n",
       "    <tr>\n",
       "      <th>4</th>\n",
       "      <td>5</td>\n",
       "      <td>0</td>\n",
       "      <td>3</td>\n",
       "      <td>Allen, Mr. William Henry</td>\n",
       "      <td>male</td>\n",
       "      <td>35.0</td>\n",
       "      <td>0</td>\n",
       "      <td>0</td>\n",
       "      <td>373450</td>\n",
       "      <td>8.0500</td>\n",
       "      <td>NaN</td>\n",
       "      <td>S</td>\n",
       "    </tr>\n",
       "  </tbody>\n",
       "</table>\n",
       "</div>"
      ],
      "text/plain": [
       "   PassengerId  Survived  Pclass  \\\n",
       "0            1         0       3   \n",
       "1            2         1       1   \n",
       "2            3         1       3   \n",
       "3            4         1       1   \n",
       "4            5         0       3   \n",
       "\n",
       "                                                Name     Sex   Age  SibSp  \\\n",
       "0                            Braund, Mr. Owen Harris    male  22.0      1   \n",
       "1  Cumings, Mrs. John Bradley (Florence Briggs Th...  female  38.0      1   \n",
       "2                             Heikkinen, Miss. Laina  female  26.0      0   \n",
       "3       Futrelle, Mrs. Jacques Heath (Lily May Peel)  female  35.0      1   \n",
       "4                           Allen, Mr. William Henry    male  35.0      0   \n",
       "\n",
       "   Parch            Ticket     Fare Cabin Embarked  \n",
       "0      0         A/5 21171   7.2500   NaN        S  \n",
       "1      0          PC 17599  71.2833   C85        C  \n",
       "2      0  STON/O2. 3101282   7.9250   NaN        S  \n",
       "3      0            113803  53.1000  C123        S  \n",
       "4      0            373450   8.0500   NaN        S  "
      ]
     },
     "execution_count": 31,
     "metadata": {},
     "output_type": "execute_result"
    }
   ],
   "source": [
    "titanic.head()"
   ]
  },
  {
   "cell_type": "markdown",
   "metadata": {},
   "source": [
    "## 7. Matplotlib and Seaborn\n",
    "\n",
    "There are a lot of different Python libraries for visualising data. **Matplotlib** is one of the most powerful and widely used. In fact, as we'll see it's integrated with pandas! We're just going to be doing some basic charting, but you can see more of its capabilities at https://matplotlib.org/gallery.html.\n",
    "\n",
    "**Seaborn** gives matplotlib a nicer default style and provides some utility functions. You can read more about using it with pandas here: http://seaborn.pydata.org/tutorial/categorical.html\n",
    "\n",
    "### Challenges\n",
    "\n",
    "1. Run the snippets below to do some basic charting\n",
    "2. Take a look at the pandas visualisation guide https://pandas.pydata.org/pandas-docs/stable/visualization.html\n",
    "3. ...\n",
    "\n"
   ]
  },
  {
   "cell_type": "code",
   "execution_count": 34,
   "metadata": {
    "collapsed": false
   },
   "outputs": [
    {
     "data": {
      "text/plain": [
       "<matplotlib.text.Text at 0x116710f0>"
      ]
     },
     "execution_count": 34,
     "metadata": {},
     "output_type": "execute_result"
    },
    {
     "data": {
      "image/png": "[encoded data removed]",
      "text/plain": [
       "<matplotlib.figure.Figure at 0x11da5438>"
      ]
     },
     "metadata": {},
     "output_type": "display_data"
    },
    {
     "data": {
      "image/png": "[encoded data removed]",
      "text/plain": [
       "<matplotlib.figure.Figure at 0x11da34a8>"
      ]
     },
     "metadata": {},
     "output_type": "display_data"
    }
   ],
   "source": [
    "import matplotlib.pyplot as plt\n",
    "import seaborn as sns\n",
    "%matplotlib inline\n",
    "\n",
    "# Pandas has built in methods for simple visualisations\n",
    "titanic[\"Sex\"].value_counts().plot(kind=\"bar\", title=\"Sex of passengers\") \n",
    "\n",
    "# Survival rate analysis by ticket class\n",
    "titanic_pclass = titanic.groupby(['Pclass']).Survived.value_counts(normalize=True)\n",
    "titanic_pclass = titanic_pclass[titanic_pclass.index.get_level_values('Survived') == 1]\n",
    "titanic_pclass = titanic_pclass.reset_index('Pclass')\n",
    "ax = titanic_pclass.plot(kind='bar', x='Pclass', y='Survived', label='survival rate by ticket class')\n",
    "ax.set_xlabel('ticket class')"
   ]
  },
  {
   "cell_type": "code",
   "execution_count": 35,
   "metadata": {
    "collapsed": false
   },
   "outputs": [
    {
     "data": {
      "text/plain": [
       "<seaborn.axisgrid.PairGrid at 0x11d4f550>"
      ]
     },
     "execution_count": 35,
     "metadata": {},
     "output_type": "execute_result"
    },
    {
     "data": {
      "image/png": "[encoded data removed]",
      "text/plain": [
       "<matplotlib.figure.Figure at 0x11d4f240>"
      ]
     },
     "metadata": {},
     "output_type": "display_data"
    },
    {
     "data": {
      "image/png": "[encoded data removed]",
      "text/plain": [
       "<matplotlib.figure.Figure at 0xe7d2128>"
      ]
     },
     "metadata": {},
     "output_type": "display_data"
    }
   ],
   "source": [
    "# Seaborn offers concise ways to construct complex charts\n",
    "sns.barplot(x=\"Embarked\", y=\"Survived\", hue=\"Sex\", data=titanic)\n",
    "sns.pairplot(x_vars=[\"Age\"], y_vars=[\"Fare\"], data=titanic, hue=\"Embarked\", size=5)"
   ]
  },
  {
   "cell_type": "code",
   "execution_count": 37,
   "metadata": {
    "collapsed": false
   },
   "outputs": [
    {
     "name": "stdout",
     "output_type": "stream",
     "text": [
      "          Survived    Pclass      Fare       Age\n",
      "Survived  1.000000 -0.338481  0.257307 -0.077221\n",
      "Pclass   -0.338481  1.000000 -0.549500 -0.369226\n",
      "Fare      0.257307 -0.549500  1.000000  0.096067\n",
      "Age      -0.077221 -0.369226  0.096067  1.000000\n"
     ]
    },
    {
     "data": {
      "text/plain": [
       "<matplotlib.axes._subplots.AxesSubplot at 0x11541a58>"
      ]
     },
     "execution_count": 37,
     "metadata": {},
     "output_type": "execute_result"
    },
    {
     "data": {
      "image/png": "[encoded data removed]",
      "text/plain": [
       "<matplotlib.figure.Figure at 0x11538f98>"
      ]
     },
     "metadata": {},
     "output_type": "display_data"
    }
   ],
   "source": [
    "sub_titanic = titanic[['Survived', 'Pclass', 'Fare' , 'Age']]\n",
    "corr = sub_titanic.corr()\n",
    "print(corr)\n",
    "sns.heatmap(corr, \n",
    "        xticklabels=corr.columns,\n",
    "        yticklabels=corr.columns, vmin=-1, vmax=1, cbar=True)"
   ]
  },
  {
   "cell_type": "code",
   "execution_count": null,
   "metadata": {
    "collapsed": true
   },
   "outputs": [],
   "source": [
    "grid = sns.FacetGrid(titanic, col='Survived', row='Pclass', size=2.2, aspect=1)\n",
    "grid.map(plt.hist, 'Age', bins=20)"
   ]
  },
  {
   "cell_type": "code",
   "execution_count": null,
   "metadata": {
    "collapsed": true
   },
   "outputs": [],
   "source": [
    "import numpy as np\n",
    "\n",
    "# You can also use matplotlib directly\n",
    "plt.hist(titanic['Fare'], label=\"Fare\")\n",
    "\n",
    "X = np.linspace(0, 600)\n",
    "for d in np.linspace(100, 600, 10):\n",
    "    plt.plot(X, d + 50 * np.sin(X / 50), linestyle='dotted', linewidth=10)\n",
    "    \n",
    "plt.title(\"Histogram of fares plus squiggles\")"
   ]
  },
  {
   "cell_type": "markdown",
   "metadata": {},
   "source": [
    "## 8. Scikit Learn\n",
    "\n",
    "Scikit Learn (http://scikit-learn.org) is a brilliant library that contains a bunch of textbook machine learning algorithms, plus machinery for running and evaluating experiments. We're going to use it to build a simple model called a decision tree.\n",
    "\n",
    "### Cleaning up the data: plugging missing values\n",
    "\n",
    "In data science and machine learning it is common to spend a lot of time cleaning up and pre-processing data. The Titanic dataset is no expection.\n",
    "\n",
    "First there are a few values missing from the dataset:"
   ]
  },
  {
   "cell_type": "code",
   "execution_count": null,
   "metadata": {
    "collapsed": true
   },
   "outputs": [],
   "source": [
    "from sklearn import tree, metrics, preprocessing, model_selection\n",
    "\n",
    "# Let's work on a copy of the data\n",
    "train = titanic.copy()\n",
    "\n",
    "# Here's the problem...\n",
    "problems = train.isnull().any(axis=1)\n",
    "print(train[problems].head())\n",
    "print(\"Problem rows: {0}\".format(train.isnull().any(axis=1).sum()))"
   ]
  },
  {
   "cell_type": "markdown",
   "metadata": {},
   "source": [
    "We're going to plug some missing values. See https://pandas.pydata.org/pandas-docs/stable/missing_data.html for other ideas. "
   ]
  },
  {
   "cell_type": "code",
   "execution_count": null,
   "metadata": {
    "collapsed": true
   },
   "outputs": [],
   "source": [
    "def fill_missing_data(df):\n",
    "    \"\"\"Fill in missing values in a few key fields\"\"\"\n",
    "    \n",
    "    # Replace missing ports of embarkation with 'U'\n",
    "    df['Embarked'] = df['Embarked'].fillna('U') # For unknown\n",
    "\n",
    "    # Replace missing ages with the median age\n",
    "    medianAge = df['Age'].dropna().median()\n",
    "    df['Age'] = df['Age'].fillna(medianAge)\n",
    "\n",
    "    # Replace missing cabins with 'U' and strip back to deck letter\n",
    "    df['Cabin'] = df['Cabin'].fillna('U')\n",
    "    df['Cabin'] = df['Cabin'].map(lambda cabin: cabin[0])\n",
    "\n",
    "    medianFare = df['Fare'].dropna().median()\n",
    "    df['Fare'] = df['Fare'].fillna(medianFare)\n",
    "    \n",
    "# Check that it's fixed\n",
    "fill_missing_data(train)\n",
    "print(train[problems].head())\n",
    "print(\"Problem rows: {0}\".format(train.isnull().any(axis=1).sum()))"
   ]
  },
  {
   "cell_type": "markdown",
   "metadata": {},
   "source": [
    "### Pre-processing the data: encoding nominal data\n",
    "\n",
    "Now we're going to convert the \"categorical\" or \"nominal\" data into numbers. \n",
    "\n",
    "Decision trees are actually capable of working with non-numerical data, but unfortunately the Scikit Learn implementation isn't yet!\n",
    "\n",
    "For our classifier it's okay to just replace each category with a code number. We can do this automatically with Scikit Learn's LabelEncoder. But there are other possibilities that you can read about at http://scikit-learn.org/stable/modules/classes.html#module-sklearn.preprocessing"
   ]
  },
  {
   "cell_type": "code",
   "execution_count": null,
   "metadata": {
    "collapsed": true
   },
   "outputs": [],
   "source": [
    "encoders = {col: preprocessing.LabelEncoder() for col in \"Cabin Embarked Sex\".split()}\n",
    "\n",
    "def encode(df):\n",
    "    \"\"\"Encode a few categorical columns\"\"\"\n",
    "    for col, encoder in encoders.items():\n",
    "         df[col] = encoder.fit_transform(df[col])\n",
    "\n",
    "encode(train)\n",
    "\n",
    "# Show the trained encoders\n",
    "for col, enc in encoders.items():\n",
    "    print(col, {c:enc.transform([c])[0] for c in enc.classes_})\n",
    "\n",
    "train.sample(n=5)"
   ]
  },
  {
   "cell_type": "code",
   "execution_count": null,
   "metadata": {
    "collapsed": true
   },
   "outputs": [],
   "source": [
    "cols = \"Pclass Sex Age Fare Cabin Embarked\".split()\n",
    "\n",
    "X = train[cols]\n",
    "y = train[\"Survived\"]\n",
    "          \n",
    "model = tree.DecisionTreeClassifier(max_depth=3)\n",
    "model.fit(X, y)\n",
    "print(\"Accuracy on training data:\", model.score(X, y))\n",
    "print(metrics.classification_report(model.predict(X), y))"
   ]
  },
  {
   "cell_type": "markdown",
   "metadata": {},
   "source": [
    "One of the coolest things about decision trees is that it's easy to visualise them and understand their behaviour."
   ]
  },
  {
   "cell_type": "code",
   "execution_count": null,
   "metadata": {
    "collapsed": true
   },
   "outputs": [],
   "source": [
    "import graphviz # conda install python-graphviz\n",
    "\n",
    "dot = tree.export_graphviz(model, out_file=None, \n",
    "                         feature_names=X.columns,  \n",
    "                         class_names=['Died', 'Survived'],  \n",
    "                         filled=True, rounded=True,  \n",
    "                         special_characters=True)\n",
    "graphviz.Source(dot)"
   ]
  },
  {
   "cell_type": "markdown",
   "metadata": {},
   "source": [
    "What if we increase the max_depth of the decision tree?"
   ]
  },
  {
   "cell_type": "code",
   "execution_count": null,
   "metadata": {
    "collapsed": true
   },
   "outputs": [],
   "source": [
    "model = tree.DecisionTreeClassifier(max_depth=10)\n",
    "model.fit(X, y)\n",
    "print(\"Accuracy on training data:\", model.score(X, y))\n",
    "print(metrics.classification_report(model.predict(X), y))"
   ]
  },
  {
   "cell_type": "markdown",
   "metadata": {},
   "source": [
    "Learning the parameters of a prediction function and testing it on the same data is a methodological mistake: a model that would just repeat the labels of the samples that it has just seen would have a perfect score but would fail to predict anything useful on yet-unseen data. This situation is called overfitting."
   ]
  },
  {
   "cell_type": "code",
   "execution_count": null,
   "metadata": {
    "collapsed": true
   },
   "outputs": [],
   "source": [
    "t_scores = []\n",
    "x_scores = []\n",
    "for depth in range(1,50):\n",
    "    model = tree.DecisionTreeClassifier(max_depth=depth)\n",
    "    model.fit(X, y)\n",
    "    t_scores.append((depth, model.score(X, y)))\n",
    "    x_scores.append((depth, model_selection.cross_val_score(model, X, y).mean()))\n",
    "\n",
    "plt.plot(*zip(*t_scores))\n",
    "plt.title(\"Training accuracy\")\n",
    "plt.show()\n",
    "plt.plot(*zip(*x_scores))\n",
    "plt.title(\"Cross-validation accuracy\")\n",
    "plt.show()"
   ]
  },
  {
   "cell_type": "markdown",
   "metadata": {},
   "source": [
    "So the best value for max_depth is 5.\n",
    "\n",
    "Finally, we can run a trained model on unseen (or \"held out\") data. You can use this to submit to https://www.kaggle.com/c/titanic"
   ]
  },
  {
   "cell_type": "code",
   "execution_count": null,
   "metadata": {
    "collapsed": true
   },
   "outputs": [],
   "source": [
    "best_model = tree.DecisionTreeClassifier(max_depth=5)\n",
    "best_model.fit(X, y)\n",
    "\n",
    "# Generate the test set\n",
    "test = pd.read_csv(\"https://raw.githubusercontent.com/joehalliwell/ml-workshop/master/test.csv\")\n",
    "fill_missing_data(test)\n",
    "encode(test)\n",
    "\n",
    "test.head()"
   ]
  },
  {
   "cell_type": "code",
   "execution_count": null,
   "metadata": {
    "collapsed": true
   },
   "outputs": [],
   "source": [
    "predictions = pd.DataFrame(best_model.predict(test[cols]), columns=(\"Survived\",))\n",
    "\n",
    "submission = pd.concat((test['PassengerId'], predictions), axis=1)\n",
    "submission.to_csv(\"submission.csv\", index=None)\n",
    "submission.head()"
   ]
  },
  {
   "cell_type": "markdown",
   "metadata": {},
   "source": [
    "## 9. Over to you!\n",
    "\n",
    "- Would a different classifier work better? There are tons to try! http://scikit-learn.org/stable/supervised_learning.html\n",
    "- Join Kaggle and submit your predictions!\n",
    "- Would a one-hot encoding be better? http://scikit-learn.org/stable/modules/generated/sklearn.preprocessing.OneHotEncoder.html\n",
    "- Try visualising the decision surface: http://scikit-learn.org/stable/auto_examples/tree/plot_iris.html#sphx-glr-auto-examples-tree-plot-iris-py \n",
    "\n",
    "## 10. References\n",
    "\n",
    "- Intro to pandas: http://synesthesiam.com/posts/an-introduction-to-pandas.html\n",
    "- Cheatsheets: https://startupsventurecapital.com/essential-cheat-sheets-for-machine-learning-and-deep-learning-researchers-efb6a8ebd2e5 \n",
    "- Titanic tutorials: https://www.kaggle.com/c/titanic#tutorials\n",
    "\n"
   ]
  }
 ],
 "metadata": {
  "anaconda-cloud": {},
  "kernelspec": {
   "display_name": "Python [Root]",
   "language": "python",
   "name": "Python [Root]"
  },
  "language_info": {
   "codemirror_mode": {
    "name": "ipython",
    "version": 2
   },
   "file_extension": ".py",
   "mimetype": "text/x-python",
   "name": "python",
   "nbconvert_exporter": "python",
   "pygments_lexer": "ipython2",
   "version": "2.7.12"
  }
 },
 "nbformat": 4,
 "nbformat_minor": 1
}
